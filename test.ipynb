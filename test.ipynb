{
 "cells": [
  {
   "cell_type": "code",
   "execution_count": 1,
   "metadata": {},
   "outputs": [
    {
     "name": "stdout",
     "output_type": "stream",
     "text": [
      "True\n"
     ]
    }
   ],
   "source": [
    "import re\n",
    "\n",
    "json_obj = {\n",
    "  \"task\": \"예약\",\n",
    "  \"date\": \"2024년 01월 31일\",\n",
    "  \"location\": \"제주도\",\n",
    "  \"golf_club_name\": \"null\",\n",
    "  \"course\": \"lake|Lake|호수\",\n",
    "  \"tee_time_for_reservation\": \"null\"\n",
    "}\n",
    "has_value_not_correct = False\n",
    "\n",
    "for k, v in json_obj.items():\n",
    "    if v != 'null':\n",
    "        if k in ['location', 'golf_club_name', 'course']:\n",
    "            if '|' in v:\n",
    "                iter_values = v.split('|')\n",
    "            else:\n",
    "                iter_values = [v]\n",
    "            \n",
    "            for a_value in iter_values:\n",
    "                list_of_choices = ['lake', 'Lake']\n",
    "                \n",
    "                if a_value not in list_of_choices:\n",
    "                    has_value_not_correct = True\n",
    "                    break # 윗줄과 항상 같이 있어야 함\n",
    "    else:\n",
    "        pass\n",
    "\n",
    "print(has_value_not_correct)"
   ]
  },
  {
   "cell_type": "code",
   "execution_count": null,
   "metadata": {},
   "outputs": [],
   "source": []
  }
 ],
 "metadata": {
  "kernelspec": {
   "display_name": "tzzim",
   "language": "python",
   "name": "python3"
  },
  "language_info": {
   "codemirror_mode": {
    "name": "ipython",
    "version": 3
   },
   "file_extension": ".py",
   "mimetype": "text/x-python",
   "name": "python",
   "nbconvert_exporter": "python",
   "pygments_lexer": "ipython3",
   "version": "3.9.12"
  }
 },
 "nbformat": 4,
 "nbformat_minor": 2
}
