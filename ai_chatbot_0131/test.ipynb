{
 "cells": [
  {
   "cell_type": "markdown",
   "metadata": {},
   "source": [
    "#### 지역목록 가져오기"
   ]
  },
  {
   "cell_type": "code",
   "execution_count": 1,
   "metadata": {},
   "outputs": [],
   "source": [
    "import json\n",
    "import jsonlines\n",
    "\n",
    "with open(\"data.json\", \"r\", encoding='utf-8') as file:\n",
    "    json_data = json.load(file)\n",
    "    \n",
    "with jsonlines.open(\"data.jsonl\") as f:\n",
    "    jsonl_data = list()\n",
    "    for line in f.iter():\n",
    "        if line in jsonl_data:\n",
    "            continue\n",
    "        else:\n",
    "            jsonl_data.append(line)\n",
    "json_data['tzzim_auto_search'] = jsonl_data\n",
    "\n",
    "locations = list(set([a_dict['location'] for a_dict in json_data['tzzim_auto_search']]))\n"
   ]
  },
  {
   "cell_type": "markdown",
   "metadata": {},
   "source": [
    "#### 날짜범위 가공하기"
   ]
  },
  {
   "cell_type": "code",
   "execution_count": 2,
   "metadata": {},
   "outputs": [
    {
     "name": "stdout",
     "output_type": "stream",
     "text": [
      "['2024년11월15일', '2024년11월30일']\n",
      "False\n"
     ]
    }
   ],
   "source": [
    "import re\n",
    "from init import InitValues\n",
    "init = InitValues()\n",
    "v = '2024년 11월 15일~2024년 11월 30일'\n",
    "\n",
    "# 공백제거 후 날짜 찾기\n",
    "regex = r'\\d{4}년\\d{2}월\\d{2}일'\n",
    "date_find_result = re.findall(regex, init.remove_space(v))\n",
    "has_rest = False\n",
    "has_value_not_correct = False\n",
    "print(date_find_result)    \n",
    "\n",
    "# 날짜 이외의 문자열이 있는 경우 수정필요\n",
    "if isinstance(date_find_result, list) and (len(date_find_result) == 1):\n",
    "    date_text = date_find_result[0]\n",
    "    has_rest = init.rest_of_date(init.remove_space(v), date_text)\n",
    "    if has_rest:\n",
    "        has_value_not_correct = True\n",
    "    else:\n",
    "        pass\n",
    "elif isinstance(date_find_result, list) and (len(date_find_result) == 2):\n",
    "    for value, date_text in zip(v.split('~'), date_find_result):\n",
    "        has_rest = init.rest_of_date(init.remove_space(value), date_text)\n",
    "        if has_rest:\n",
    "            has_value_not_correct = True\n",
    "            break\n",
    "else:\n",
    "    has_value_not_correct = True\n",
    "\n",
    "print(has_value_not_correct)"
   ]
  },
  {
   "cell_type": "markdown",
   "metadata": {},
   "source": [
    "#### 조건에 맞는 데이터 가져오기"
   ]
  },
  {
   "cell_type": "code",
   "execution_count": 1,
   "metadata": {},
   "outputs": [],
   "source": [
    "# javascript한수 구현\n",
    "from data_filter import DataFilter\n",
    "filter = DataFilter()\n",
    "result = filter.java_script_func(date = '2024-01-26',\n",
    "                        club_list = 'raon,cypress',\n",
    "                        start_time = '9',\n",
    "                        end_time = '12')       "
   ]
  },
  {
   "cell_type": "code",
   "execution_count": 2,
   "metadata": {},
   "outputs": [
    {
     "name": "stdout",
     "output_type": "stream",
     "text": [
      "[ {'GC_name': '라온', 'course': 'stone', 'day': '2024-01-26', 'frame_list': ['09:05', '11:18', '11:39', '11:46', '11:53', '11:53'], 'location': '제주도'},\n",
      "  {'GC_name': '라온', 'course': 'lake', 'day': '2024-01-26', 'frame_list': ['09:05', '11:18', '11:39', '11:46', '11:53', '11:53'], 'location': '제주도'},\n",
      "  {'GC_name': '라온', 'course': 'pine', 'day': '2024-01-26', 'frame_list': ['09:05', '11:18', '11:39', '11:46', '11:53', '11:53'], 'location': '제주도'},\n",
      "  {'GC_name': '사이프러스', 'course': 'West', 'day': '2024-01-26', 'frame_list': ['11:23', '11:51', '11:58'], 'location': '제주도'}]\n"
     ]
    }
   ],
   "source": [
    "from pprint import pprint\n",
    "pprint(result, indent=2, width=300)"
   ]
  },
  {
   "cell_type": "code",
   "execution_count": 3,
   "metadata": {},
   "outputs": [],
   "source": [
    "json_condition = {'location': 'all',\n",
    "                  'golf_club_name': 'all', #\"라온,사이프러스\" 형태로 받을 예정\n",
    "                  'course': 'all',\n",
    "                  'start_date': '2024년 01월 26일',\n",
    "                  'end_date': '2024년 01월 30일', \n",
    "                  'start_time': '7시 00분',\n",
    "                  'end_time': '9시 15분'}\n",
    "\n",
    "prior_result = filter.prior_processing(json_condition)"
   ]
  },
  {
   "cell_type": "code",
   "execution_count": 4,
   "metadata": {},
   "outputs": [
    {
     "name": "stdout",
     "output_type": "stream",
     "text": [
      "[ {'GC_name': '라온', 'course': 'stone', 'day': '2024-01-26', 'frame_list': ['08:30', '08:37', '08:44', '07:41', '08:37', '08:58', '09:05', '07:34', '07:41', '07:48'], 'location': '제주도'},\n",
      "  {'GC_name': '라온', 'course': 'lake', 'day': '2024-01-26', 'frame_list': ['08:30', '08:37', '08:44', '07:41', '08:37', '08:58', '09:05', '07:34', '07:41', '07:48'], 'location': '제주도'},\n",
      "  {'GC_name': '라온', 'course': 'pine', 'day': '2024-01-26', 'frame_list': ['08:30', '08:37', '08:44', '07:41', '08:37', '08:58', '09:05', '07:34', '07:41', '07:48'], 'location': '제주도'},\n",
      "  {'GC_name': '파인비치', 'course': '파인', 'day': '2024-01-26', 'frame_list': ['09:20', '09:30', '09:40'], 'location': '호남권'},\n",
      "  {'GC_name': '파인비치', 'course': '비치', 'day': '2024-01-26', 'frame_list': ['09:20', '09:30', '09:40'], 'location': '호남권'},\n",
      "  {'GC_name': '에버리스', 'course': 'Lake', 'day': '2024-01-26', 'frame_list': ['07:45', '07:52', '07:59', '08:13', '08:20'], 'location': '제주도'},\n",
      "  {'GC_name': '아난티남해', 'course': 'Out', 'day': '2024-01-26', 'frame_list': ['07:45', '07:59'], 'location': '영남권'},\n",
      "  {'GC_name': '아난티남해', 'course': 'In', 'day': '2024-01-26', 'frame_list': ['07:45', '07:59'], 'location': '영남권'},\n",
      "  {'GC_name': '사이프러스', 'course': 'West', 'day': '2024-01-26', 'frame_list': ['07:48', '07:55', '08:02', '08:09'], 'location': '제주도'}]\n"
     ]
    }
   ],
   "source": [
    "from pprint import pprint\n",
    "pprint(prior_result, indent=2, width=300)"
   ]
  },
  {
   "cell_type": "code",
   "execution_count": 5,
   "metadata": {},
   "outputs": [],
   "source": [
    "filtered_result = filter.course_miniute_processing(prior_result, json_condition)"
   ]
  },
  {
   "cell_type": "code",
   "execution_count": 6,
   "metadata": {},
   "outputs": [
    {
     "name": "stdout",
     "output_type": "stream",
     "text": [
      "[ {'GC_name': '라온', 'course': 'stone', 'day': '2024-01-26', 'frame_list': ['08:30', '08:37', '08:44', '07:41', '08:37', '08:58', '09:05', '07:34', '07:41', '07:48'], 'location': '제주도'},\n",
      "  {'GC_name': '라온', 'course': 'lake', 'day': '2024-01-26', 'frame_list': ['08:30', '08:37', '08:44', '07:41', '08:37', '08:58', '09:05', '07:34', '07:41', '07:48'], 'location': '제주도'},\n",
      "  {'GC_name': '라온', 'course': 'pine', 'day': '2024-01-26', 'frame_list': ['08:30', '08:37', '08:44', '07:41', '08:37', '08:58', '09:05', '07:34', '07:41', '07:48'], 'location': '제주도'},\n",
      "  {'GC_name': '에버리스', 'course': 'Lake', 'day': '2024-01-26', 'frame_list': ['07:45', '07:52', '07:59', '08:13', '08:20'], 'location': '제주도'},\n",
      "  {'GC_name': '아난티남해', 'course': 'Out', 'day': '2024-01-26', 'frame_list': ['07:45', '07:59'], 'location': '영남권'},\n",
      "  {'GC_name': '아난티남해', 'course': 'In', 'day': '2024-01-26', 'frame_list': ['07:45', '07:59'], 'location': '영남권'},\n",
      "  {'GC_name': '사이프러스', 'course': 'West', 'day': '2024-01-26', 'frame_list': ['07:48', '07:55', '08:02', '08:09'], 'location': '제주도'}]\n"
     ]
    }
   ],
   "source": [
    "from pprint import pprint\n",
    "pprint(filtered_result, indent=2, width=300)"
   ]
  },
  {
   "cell_type": "markdown",
   "metadata": {},
   "source": [
    "#### 코스 프롬프트 엔지니어링"
   ]
  },
  {
   "cell_type": "code",
   "execution_count": null,
   "metadata": {},
   "outputs": [],
   "source": [
    "from tzzim import Tzzim\n",
    "tzzim = Tzzim()\n",
    "def course_classification(course_description:str, course_list:list):\n",
    "    instruction = f\"\"\"손님이 골프장 예약을 할 때 코스를 '{course_description}'로 하고 싶다고 요청하였습니다.\n",
    "                    다음 코스명 중, 어떤 코스에 해당하는 지 선택하여 출력형식에 따라 출력해주세요. 출력값만 생성해주세요.\n",
    "                    \n",
    "                    코스명: {','.join(course_list)}\n",
    "                    출력형식: A,B,C\n",
    "                    \n",
    "                    출력:\\n\"\"\"\n",
    "                    \n",
    "    raw_answer = tzzim.chatgpt_return(instruction) # template을 사용하지 않음\n",
    "    return re.sub(r\"[^\\w\\s\\d\\,]\", '', raw_answer)"
   ]
  },
  {
   "cell_type": "code",
   "execution_count": 29,
   "metadata": {},
   "outputs": [],
   "source": [
    "from tzzim import Tzzim\n",
    "tzzim = Tzzim()\n",
    "location_list = ['제주도', '영남권', '호남권']\n",
    "golf_club_list = ['라온', '아난티남해', '파인비치', '에버리스', '에코랜드', '사이프러스']\n",
    "course_list = ['stone', 'lake', '파인', 'pine', '비치', 'Lake', '와일드', 'Out', 'In', 'West']\n",
    "\n",
    "def key_classification(add_dialogue:str):              \n",
    "    instruction = f\"\"\"{add_dialogue}\\n 위와 같은 대화가 주어졌을 때 추가된 대화를 사용하여 \n",
    "                    다음 선택지 중에서 JSON데이터의 value값을 생성해주세요. JSON데이터를 출력하고 출력값만 생성해주세요.\n",
    "\n",
    "                    JSON 데이터: {{'location': 'null', 'golf_club_name': 'null', 'course': 'null'}}\n",
    "                    지역 선택지: {','.join(location_list)}\n",
    "                    골프장명 선택지: {','.join(golf_club_list)}\n",
    "                    코스 선택지: {','.join(course_list)}\n",
    "                    \n",
    "                    여러 선택지를 선택한다면 \"A,B,C\"의 형식으로 value값을 생성해주세요.\n",
    "                    추가된 대화에 key값에 해당하는 내용이 없다면 \"null\"으로 유지해주세요.\n",
    "\t\t\t\t\tJSON의 value값이 \"null\"이 아니라면 key값과 value값은 고정입니다.\n",
    "\t\t\t\t\tJSON의 새로운 key값과 value값은 추가하지 않습니다.\n",
    "                    코스 선택지에는 영어단어를 한국어로 읽은 표현이 있습니다. 이를 고려하여 영어표현, 한글표현을 모두 생성해주세요.\n",
    "                    \n",
    "                    출력:\\n\"\"\"\n",
    "                    \n",
    "    raw_answer = tzzim.chatgpt_return(instruction) # template을 사용하지 않음\n",
    "    return raw_answer"
   ]
  },
  {
   "cell_type": "code",
   "execution_count": 30,
   "metadata": {},
   "outputs": [
    {
     "data": {
      "text/plain": [
       "'\"{\\'location\\': \\'null\\', \\'golf_club_name\\': \\'라온,파인비치\\', \\'course\\': \\'파인,pine\\'}\"'"
      ]
     },
     "execution_count": 30,
     "metadata": {},
     "output_type": "execute_result"
    }
   ],
   "source": [
    "add_dialogue = \"\"\"\n",
    "추가된 대화:\n",
    "        검색을 완료하였습니다. 골프장, 코스, 시간 등을 선택해주세요.\n",
    ":골프장은 라온골프장이나 파인비치로 해주고 코스는 소나무가 있는 곳으로 해줘\n",
    "\"\"\"\n",
    "result = key_classification(add_dialogue.split(':')[-1])\n",
    "result"
   ]
  },
  {
   "cell_type": "code",
   "execution_count": 10,
   "metadata": {},
   "outputs": [
    {
     "name": "stdout",
     "output_type": "stream",
     "text": [
      "<class 'datetime.time'>\n",
      "<class 'datetime.time'>\n",
      "True\n"
     ]
    }
   ],
   "source": [
    "from datetime import datetime, time\n",
    "a = datetime(2024, 1, 26, 1, 1, 1).time()\n",
    "b = time(1, 1, 1)\n",
    "print(type(a))\n",
    "print(type(b))\n",
    "print(a == b)\n"
   ]
  },
  {
   "cell_type": "code",
   "execution_count": 6,
   "metadata": {},
   "outputs": [
    {
     "name": "stdout",
     "output_type": "stream",
     "text": [
      "14:20:29.378083\n",
      "<class 'datetime.time'>\n"
     ]
    }
   ],
   "source": [
    "print(datetime.now().time())\n",
    "print(type(datetime.now().time()))"
   ]
  },
  {
   "cell_type": "code",
   "execution_count": 11,
   "metadata": {},
   "outputs": [
    {
     "data": {
      "text/plain": [
       "15"
      ]
     },
     "execution_count": 11,
     "metadata": {},
     "output_type": "execute_result"
    }
   ],
   "source": [
    "datetime.now().hour"
   ]
  },
  {
   "cell_type": "code",
   "execution_count": 14,
   "metadata": {},
   "outputs": [],
   "source": [
    "a = [{'a':1, 'b':1}, {'a':2, 'b':1}]\n",
    "import pandas as pd\n",
    "b = pd.DataFrame(a)\n",
    "c = (b,'etc')"
   ]
  },
  {
   "cell_type": "code",
   "execution_count": 18,
   "metadata": {},
   "outputs": [
    {
     "data": {
      "text/plain": [
       "dict_values([1, 1])"
      ]
     },
     "execution_count": 18,
     "metadata": {},
     "output_type": "execute_result"
    }
   ],
   "source": [
    "a[0].values()"
   ]
  },
  {
   "cell_type": "code",
   "execution_count": 19,
   "metadata": {},
   "outputs": [
    {
     "ename": "IndexError",
     "evalue": "list assignment index out of range",
     "output_type": "error",
     "traceback": [
      "\u001b[0;31m---------------------------------------------------------------------------\u001b[0m",
      "\u001b[0;31mIndexError\u001b[0m                                Traceback (most recent call last)",
      "Cell \u001b[0;32mIn[19], line 2\u001b[0m\n\u001b[1;32m      1\u001b[0m a \u001b[38;5;241m=\u001b[39m \u001b[38;5;28mlist\u001b[39m()\n\u001b[0;32m----> 2\u001b[0m \u001b[43ma\u001b[49m\u001b[43m[\u001b[49m\u001b[38;5;241;43m-\u001b[39;49m\u001b[38;5;241;43m1\u001b[39;49m\u001b[43m]\u001b[49m \u001b[38;5;241m=\u001b[39m \u001b[38;5;241m1\u001b[39m\n\u001b[1;32m      3\u001b[0m a\n",
      "\u001b[0;31mIndexError\u001b[0m: list assignment index out of range"
     ]
    }
   ],
   "source": [
    "a = list()\n",
    "a[-1] = 1\n",
    "a"
   ]
  },
  {
   "cell_type": "code",
   "execution_count": 2,
   "metadata": {},
   "outputs": [
    {
     "data": {
      "text/plain": [
       "False"
      ]
     },
     "execution_count": 2,
     "metadata": {},
     "output_type": "execute_result"
    }
   ],
   "source": [
    "1 in list()"
   ]
  },
  {
   "cell_type": "markdown",
   "metadata": {},
   "source": [
    "#### 프롬프트 쪼개기"
   ]
  },
  {
   "cell_type": "code",
   "execution_count": 2,
   "metadata": {},
   "outputs": [
    {
     "name": "stdout",
     "output_type": "stream",
     "text": [
      "keys:  date|location\n",
      "keys_to_generate:  ['date']\n",
      "keys_to_classify:  ['location']\n",
      "ner_instruction:  위와 같은 대화가 주어졌을 때 추가된 대화를 사용하여 아래의 JSON 데이터의 date key에 해당하는 value값을 업데이트 해주세요. 출력값만 생성해주세요.JSON 데이터: {'date': '2024년 01월 27일'}\n",
      "\n",
      "\n",
      "\t추가된 대화에 key값에 해당하는 내용이 없다면 \"null\"으로 유지해주세요.\n",
      "\tJSON의 value값이 \"null\"이 아니라면 key값과 value값은 고정입니다.\n",
      "\tJSON의 새로운 key값과 value값은 추가하지 않습니다.\n",
      "\t특정 key값에 대해 질문했을 때 \"상관없다\" 등의 답변이 있다면 해당 key에는 \"all\"을 생성해주세요.\n",
      "\t\"date\"키의 경우 오늘 날짜인 2024-01-28에 가까운 날짜로 \"yyyy년 mm월 dd일\" 형식을 사용하여 value 값으로 생성해주세요.\n",
      "\t\"date\"키의 경우 날짜에 대한 범위를 나타내는 말이 있을 때 \"yyyy년 mm월 dd일~yyyy년 mm월 dd일\"의 형식으로 값을 생성해주세요.\n",
      "\t\"date\"키의 경우 \"초\", \"초순\"등의 표현이 있다면 \"yyyy년 mm월 01일~yyyy년 mm월 10일\", \"중순\"이면 \"yyyy년 mm월 11일~yyyy년 mm월 20일\", \"말\"이면 \"yyyy년 mm월 21일~yyyy년 mm월 30일\"의 형식으로 값을 생성해주세요. \"말\"의 경우, 월에 따라 마지막 날짜가 변동될 수 있습니다.\n",
      "\n",
      "출력:\n",
      "\n",
      "classify_instruction:  위와 같은 대화가 주어졌을 때 추가된 대화를 사용하여 다음 선택지 중에서 JSON데이터의 value값을 생성해주세요. JSON데이터를 출력하고 출력값만 생성해주세요.JSON 데이터: {'location': '제주도'}\n",
      "\n",
      "\n",
      "\t지역 선택지: ['제주도', '영남권', '호남권']\n",
      "\n",
      "\n",
      "\t추가된 대화에 key값에 해당하는 내용이 없다면 \"null\"으로 유지해주세요.\n",
      "\tJSON의 value값이 \"null\"이 아니라면 key값과 value값은 고정입니다.\n",
      "\tJSON의 새로운 key값과 value값은 추가하지 않습니다.\n",
      "\t특정 key값에 대해 질문했을 때 \"상관없다\" 등의 답변이 있다면 해당 key에는 \"all\"을 생성해주세요.\n",
      "\t\"date\"키의 경우 오늘 날짜인 2024-01-28에 가까운 날짜로 \"yyyy년 mm월 dd일\" 형식을 사용하여 value 값으로 생성해주세요.\n",
      "\t\"date\"키의 경우 날짜에 대한 범위를 나타내는 말이 있을 때 \"yyyy년 mm월 dd일~yyyy년 mm월 dd일\"의 형식으로 값을 생성해주세요.\n",
      "\t\"date\"키의 경우 \"초\", \"초순\"등의 표현이 있다면 \"yyyy년 mm월 01일~yyyy년 mm월 10일\", \"중순\"이면 \"yyyy년 mm월 11일~yyyy년 mm월 20일\", \"말\"이면 \"yyyy년 mm월 21일~yyyy년 mm월 30일\"의 형식으로 값을 생성해주세요. \"말\"의 경우, 월에 따라 마지막 날짜가 변동될 수 있습니다.\n",
      "\t여러 선택지를 선택한다면 \"A|B|C\"의 형식으로 value값을 생성해주세요.\n",
      "\t전라도는 호남권에 속하고, 경상도는 영남권에 속합니다.\n",
      "\n",
      "출력:\n",
      "\n",
      "json_generated:  {'date': '2024년 01월 27일'}\n",
      "json_classified:  {'location': '제주도|호남권', 'date': '2024년 01월 27일'}\n",
      "json_changed:  {'task': '예약', 'date': '2024년 01월 27일', 'location': '제주도|호남권', 'golf_club_name': 'null', 'course': 'null', 'tee_time_for_reservation': 'null'}\n"
     ]
    }
   ],
   "source": [
    "import copy\n",
    "from datetime import datetime\n",
    "import re\n",
    "\n",
    "from tzzim import Tzzim\n",
    "tzzim = Tzzim()\n",
    "\n",
    "add_dialogue = \"\"\"\n",
    "추가된 대화:\n",
    "    '네 알겠습니다, 바로 예약 진행하겠습니다. 어떻게 예약을 도와드릴까요?\n",
    ":27일 제주나 전라도에서 칠거야'\n",
    "\"\"\"\n",
    "\n",
    "dialogue = f\"\"\"\n",
    "기존 대화:\n",
    "        ['안녕하세요! 골프예약인공지능 티찜AI입니다. 무엇을 도와드릴까요?\\n:골프장 예약할래', '네, 알겠습니다! 현재  푸른하늘님은 6개 골프장의 회원이십니다. 골프장 명단을 알려드릴까요?\\n:아니']\n",
    "{add_dialogue}\n",
    "\"\"\"\n",
    "# 골프장은 라온으로 해주고 코스는 stone으로 해줘\n",
    "\n",
    "json_dict = {\n",
    "  \"task\": \"예약\",\n",
    "  \"date\": \"2024년 01월 27일\",\n",
    "  \"location\": \"제주도\",\n",
    "  \"golf_club_name\": \"null\",\n",
    "  \"course\": \"null\",\n",
    "  \"tee_time_for_reservation\": \"null\"\n",
    "}\n",
    "json_string = str(json_dict)\n",
    "\n",
    "choices_dict = {\n",
    "    'location': ['제주도', '영남권', '호남권'],\n",
    "    'golf_club_name': ['라온', '아난티남해', '파인비치', '에버리스', '에코랜드', '사이프러스'],\n",
    "    'course': ['stone', 'lake', '파인', 'pine', '비치', 'Lake', '와일드', 'Out', 'In', 'West']\n",
    "}\n",
    "\n",
    "ner_conditions = {'basic': ['추가된 대화에 key값에 해당하는 내용이 없다면 \"null\"으로 유지해주세요.',\n",
    "\t\t\t\t\t\t\t'JSON의 value값이 \"null\"이 아니라면 key값과 value값은 고정입니다.',\n",
    "\t\t\t\t\t\t\t'JSON의 새로운 key값과 value값은 추가하지 않습니다.',\n",
    "        \t\t\t\t\t'특정 key값에 대해 질문했을 때 \"상관없다\" 등의 답변이 있다면 해당 key에는 \"all\"을 생성해주세요.'],\n",
    "                  'classification': ['여러 선택지를 선택한다면 \"A|B|C\"의 형식으로 value값을 생성해주세요.'],\n",
    "\t\t\t\t\t'task': [f'\"task\"키의 경우 {\", \".join([\"예약\", \"예약취소\", \"골프정보\"])} 중 하나만 선택하여 value 값으로 생성해주세요.'],\n",
    "                    'location': ['전라도는 호남권에 속하고, 경상도는 영남권에 속합니다.'],\n",
    "                    'course': ['코스 선택지에는 영어단어를 한국어로 읽은 표현이 있습니다. 이를 고려하여 영어표현, 한글표현을 모두 생성해주세요.'],\n",
    "\t\t\t\t\t'date': [f'\"date\"키의 경우 오늘 날짜인 {datetime.now().strftime(\"%Y-%m-%d\")}에 가까운 날짜로 \"yyyy년 mm월 dd일\" 형식을 사용하여 value 값으로 생성해주세요.',\n",
    "\t\t\t\t\t\t\t'\"date\"키의 경우 날짜에 대한 범위를 나타내는 말이 있을 때 \"yyyy년 mm월 dd일~yyyy년 mm월 dd일\"의 형식으로 값을 생성해주세요.',\n",
    "\t\t\t\t\t\t\t'\"date\"키의 경우 \"초\", \"초순\"등의 표현이 있다면 \"yyyy년 mm월 01일~yyyy년 mm월 10일\", \"중순\"이면 \"yyyy년 mm월 11일~yyyy년 mm월 20일\", \"말\"이면 \"yyyy년 mm월 21일~yyyy년 mm월 30일\"의 형식으로 값을 생성해주세요. \"말\"의 경우, 월에 따라 마지막 날짜가 변동될 수 있습니다.'],\n",
    "\t\t\t\t\t'tee_time_for_reservation': ['\"tee_time_for_reservation\"키의 경우 24시간 표기와 \"%H시 %M분\"형식을 사용하여 value 값으로 생성해주세요.',\n",
    "\t\t\t\t\t\t\t\t\t\t\t\t'\"tee_time_for_reservation\"키의 경우 시간의 범위를 나타내는 말이 있을 때 \"%H시 %M분~%H시 %M분\"의 형식으로 값을 생성해주세요.',\n",
    "\t\t\t\t\t\t\t\t\t\t\t\t'\"tee_time_for_reservation\"키의 경우 하나의 시간표현이 있다면 \"%H-1시 %M분~%H시+1 %M분\"의 형식으로 값을 생성해주세요.',\n",
    "\t\t\t\t\t\t\t\t\t\t\t\t'\"tee_time_for_reservation\"키의 경우 \"%H시 %M분 이후로\"등의 표현이 있다면 \"%H시 %M분~23시 59분\"의 형식으로, \"%H시 이전으로\"등의 표현이 있다면 \"00시 00분~%H시 %M분\"의 형식으로 값을 생성해주세요.']\n",
    "\t\t\t\t\t}\n",
    "        \n",
    "key_instruction = f\"\"\"위와 같은 대화가 주어졌을 때 추가된 대화를 사용하여 사용자의 답변에 따라 아래 선택지에서 수정이 필요한 값을 선택해주세요. 출력형식에 따라 출력값만 생성해주세요.\n",
    "        선택지: {','.join(list(json_dict.keys()))}\n",
    "        출력형식: A|B|C\n",
    "        조건 1: 수정이 필요없다면 'null'을 생성해주세요.\n",
    "        \n",
    "        출력:\\n\"\"\"\n",
    "# ChatGPT결과가 따옴표까지 생성하는 것 조심해야함   \n",
    "user_prompt = tzzim.template(dialogue, key_instruction)\n",
    "keys = tzzim.chatgpt_return(user_prompt)\n",
    "keys = re.sub(r\"[^\\w\\s\\d\\|]\", '', keys)\n",
    "print('keys: ', keys)\n",
    "\n",
    "\n",
    "json_generated = dict()\n",
    "json_classified = dict()\n",
    "\n",
    "if 'null' in keys:\n",
    "    pass\n",
    "else:\n",
    "    if not keys:\n",
    "        pass\n",
    "    else:\n",
    "        if tzzim.or_delimeter in keys:\n",
    "            keys = keys.split(tzzim.or_delimeter)\n",
    "        else:\n",
    "            keys = [keys]\n",
    "            \n",
    "        keys_to_generate = list()\n",
    "        keys_to_classify = list()\n",
    "\n",
    "        for a_key in keys:\n",
    "            if a_key in ['location', 'golf_club_name', 'course']:\n",
    "                keys_to_classify.append(a_key)\n",
    "            else:\n",
    "                keys_to_generate.append(a_key)\n",
    "                \n",
    "        print('keys_to_generate: ', keys_to_generate)\n",
    "        print('keys_to_classify: ', keys_to_classify)\n",
    "         \n",
    "        if keys_to_generate:\n",
    "            prompt_condition_list = ner_conditions['basic']\n",
    "            for a_key in keys_to_generate:\n",
    "                if a_key in ner_conditions:\n",
    "                    prompt_condition_list += ner_conditions[a_key]\n",
    "            prompt_conditions = '\\n\\t' + '\\n\\t'.join(prompt_condition_list)\n",
    "            temp_dict = {k:v for k, v in json_dict.items() if k in keys_to_generate}\n",
    "            ner_instruction = '\\n\\n'.join([f\"위와 같은 대화가 주어졌을 때 추가된 대화를 사용하여 아래의 JSON 데이터의 {','.join(keys_to_generate)} key에 해당하는 value값을 업데이트 해주세요. 출력값만 생성해주세요.\" +\\\n",
    "                                            f\"JSON 데이터: {temp_dict}\",\n",
    "                                            prompt_conditions,\n",
    "                                            \"출력:\\n\"])\n",
    "            print('ner_instruction: ', ner_instruction)\n",
    "            user_prompt = tzzim.template(dialogue, ner_instruction)\n",
    "            json_string_generated = tzzim.chatgpt_return(user_prompt)\n",
    "            json_generated = tzzim.to_json(json_string_generated)\n",
    "        else:\n",
    "            pass\n",
    "        \n",
    "        if keys_to_classify:\n",
    "            prompt_condition_list = ner_conditions['basic'] + ner_conditions['classification']\n",
    "            choices_list = list()\n",
    "            for a_key in keys_to_classify:\n",
    "                if a_key in ner_conditions:\n",
    "                    prompt_condition_list += ner_conditions[a_key]\n",
    "                    \n",
    "                if a_key in choices_dict.keys():\n",
    "                    choice_phrase = f'{tzzim.json_keyname[a_key]} 선택지: {choices_dict[a_key]}'\n",
    "                    choices_list.append(choice_phrase)\n",
    "                \n",
    "            choices = '\\n\\t' + '\\n\\t'.join(choices_list)\n",
    "            prompt_conditions = '\\n\\t' + '\\n\\t'.join(prompt_condition_list)\n",
    "            temp_dict = {k:v for k, v in json_dict.items() if k in keys_to_classify}\n",
    "            classify_instruction = '\\n\\n'.join([f\"위와 같은 대화가 주어졌을 때 추가된 대화를 사용하여 다음 선택지 중에서 JSON데이터의 value값을 생성해주세요. JSON데이터를 출력하고 출력값만 생성해주세요.\" +\\\n",
    "                                            f\"JSON 데이터: {temp_dict}\",\n",
    "                                            choices,\n",
    "                                            prompt_conditions,\n",
    "                                            \"출력:\\n\"])\n",
    "            print('classify_instruction: ', classify_instruction)\n",
    "            user_prompt = tzzim.template(dialogue, classify_instruction)\n",
    "            json_string_classified = tzzim.chatgpt_return(user_prompt)\n",
    "            json_classified = tzzim.to_json(json_string_classified)\n",
    "\n",
    "print('json_generated: ', json_generated)\n",
    "print('json_classified: ', json_classified)\n",
    "\n",
    "json_changed = copy.deepcopy(json_dict)\n",
    "for k, v in json_changed.items():\n",
    "    if json_generated and k in json_generated:\n",
    "        for k, v in json_generated.items():\n",
    "            json_changed[k] = v\n",
    "    \n",
    "    if json_classified and k in json_classified:\n",
    "        for k, v in json_classified.items():\n",
    "            json_changed[k] = v\n",
    "print('json_changed: ', json_changed)"
   ]
  },
  {
   "cell_type": "code",
   "execution_count": 10,
   "metadata": {},
   "outputs": [],
   "source": [
    "choices_dict = {\n",
    "    'location':list(),\n",
    "    'golf_club_name': list(),\n",
    "    'course': list()\n",
    "}\n",
    "\n",
    "for k1, k2 in zip(choices_dict, ['location', 'name', 'course']):\n",
    "    for a_dict in tzzim.sample_data['tzzim_get_GC_name_list']:\n",
    "        if k2 == 'course':\n",
    "            choices_dict[k1] += a_dict[k2]\n",
    "        else:\n",
    "            choices_dict[k1].append(a_dict[k2])\n",
    "    choices_dict[k1] = list(set(choices_dict[k1]))"
   ]
  },
  {
   "cell_type": "code",
   "execution_count": 11,
   "metadata": {},
   "outputs": [
    {
     "data": {
      "text/plain": [
       "{'location': ['제주도', '영남권', '호남권'],\n",
       " 'golf_club_name': ['에코랜드', '에버리스', '파인비치', '아난티남해', '라온', '사이프러스'],\n",
       " 'course': ['lake',\n",
       "  '비치',\n",
       "  'Lake',\n",
       "  '파인',\n",
       "  'West',\n",
       "  'stone',\n",
       "  'Out',\n",
       "  'In',\n",
       "  '와일드',\n",
       "  'pine']}"
      ]
     },
     "execution_count": 11,
     "metadata": {},
     "output_type": "execute_result"
    }
   ],
   "source": [
    "choices_dict"
   ]
  },
  {
   "cell_type": "code",
   "execution_count": 6,
   "metadata": {},
   "outputs": [
    {
     "data": {
      "text/plain": [
       "'01월 31일'"
      ]
     },
     "execution_count": 6,
     "metadata": {},
     "output_type": "execute_result"
    }
   ],
   "source": [
    "from datetime import datetime\n",
    "\n",
    "start_date_datetime = datetime.strptime('2024년 1월 31일','%Y년 %m월 %d일')\n",
    "start_date_parse = datetime.strftime(start_date_datetime, '%m월 %d일')\n",
    "start_date_parse"
   ]
  },
  {
   "cell_type": "code",
   "execution_count": 2,
   "metadata": {},
   "outputs": [
    {
     "name": "stdout",
     "output_type": "stream",
     "text": [
      "Collecting jamotools\n",
      "  Using cached jamotools-0.1.10-py2.py3-none-any.whl (13 kB)\n",
      "Requirement already satisfied: numpy in /home/dahae/workspaces/runtimes/miniconda3/envs/tzzim/lib/python3.9/site-packages (from jamotools) (1.23.5)\n",
      "Requirement already satisfied: six in /home/dahae/workspaces/runtimes/miniconda3/envs/tzzim/lib/python3.9/site-packages (from jamotools) (1.16.0)\n",
      "Collecting future (from jamotools)\n",
      "  Using cached future-0.18.3-py3-none-any.whl\n",
      "Installing collected packages: future, jamotools\n",
      "Successfully installed future-0.18.3 jamotools-0.1.10\n"
     ]
    }
   ],
   "source": [
    "!pip install jamotools"
   ]
  },
  {
   "cell_type": "code",
   "execution_count": 3,
   "metadata": {},
   "outputs": [
    {
     "data": {
      "text/plain": [
       "'ㅇㅏㄴㄴㅕㅇ'"
      ]
     },
     "execution_count": 3,
     "metadata": {},
     "output_type": "execute_result"
    }
   ],
   "source": [
    "import jamotools\n",
    "jamotools.split_syllables('안녕')"
   ]
  },
  {
   "cell_type": "code",
   "execution_count": 20,
   "metadata": {},
   "outputs": [
    {
     "name": "stdout",
     "output_type": "stream",
     "text": [
      "[datetime.timedelta(seconds=565, microseconds=406245), datetime.timedelta(days=-1, seconds=83365, microseconds=406239)]\n"
     ]
    },
    {
     "data": {
      "text/plain": [
       "True"
      ]
     },
     "execution_count": 20,
     "metadata": {},
     "output_type": "execute_result"
    }
   ],
   "source": [
    "from datetime import datetime\n",
    "datetime_list = [datetime(2024, 1, 30,21), datetime(2024, 1, 30, 20)]\n",
    "time_delta_list = [(a_datetime - datetime.now()) for a_datetime in datetime_list]\n",
    "min(enumerate(time_delta_list), key=lambda x: x[1])"
   ]
  },
  {
   "cell_type": "code",
   "execution_count": 43,
   "metadata": {},
   "outputs": [
    {
     "name": "stdout",
     "output_type": "stream",
     "text": [
      "[datetime.timedelta(seconds=900), datetime.timedelta(seconds=1800)]\n"
     ]
    },
    {
     "data": {
      "text/plain": [
       "[(1, datetime.timedelta(seconds=1800)), (0, datetime.timedelta(seconds=900))]"
      ]
     },
     "execution_count": 43,
     "metadata": {},
     "output_type": "execute_result"
    }
   ],
   "source": [
    "import datetime\n",
    "\n",
    "# datetime\n",
    "datetime1 = datetime.datetime.strptime('10:45', '%H:%M')\n",
    "datetime2 = datetime.datetime.strptime('11:00', '%H:%M')\n",
    "datetime3 = datetime.datetime.strptime('11:30', '%H:%M')\n",
    "\n",
    "\n",
    "# timedelta 구하기\n",
    "time_delta1 = abs(datetime1 - datetime2)\n",
    "time_delta2 = abs(datetime3 - datetime2)\n",
    "\n",
    "\n",
    "a_list = [time_delta1, time_delta2]\n",
    "print(a_list)\n",
    "sorted(enumerate(a_list), key=lambda x: x[1])[:3]"
   ]
  },
  {
   "cell_type": "code",
   "execution_count": 49,
   "metadata": {},
   "outputs": [
    {
     "name": "stdout",
     "output_type": "stream",
     "text": [
      "[]\n",
      "True\n"
     ]
    }
   ],
   "source": [
    "import re\n",
    "remove_space = lambda value: re.sub(r'\\s+', '', value)\n",
    "rest_of_date = lambda value_without_space, date_text: value_without_space.replace(date_text, '')\n",
    "\n",
    "k = 'date'\n",
    "v = '오늘'\n",
    "\n",
    "if k == 'date':\n",
    "    regex = r'\\d{4}년\\d{2}월\\d{2}일'\n",
    "else:\n",
    "    regex = r'\\d{2}시\\d{2}분'\n",
    "find_date_time:list = re.findall(regex, remove_space(v))\n",
    "print(find_date_time)\n",
    "has_rest = False\n",
    "has_value_not_correct = False\n",
    "# 날짜 이외의 문자열이 있는 경우 수정필요\n",
    "if isinstance(find_date_time, list) and (len(find_date_time) == 1):\n",
    "    date_text = find_date_time[0]\n",
    "    has_rest = rest_of_date(remove_space(v), date_text)\n",
    "    if has_rest:\n",
    "        has_value_not_correct = True\n",
    "    else:\n",
    "        pass\n",
    "elif isinstance(find_date_time, list) and (len(find_date_time) == 2):\n",
    "    for value, date_text in zip(v.split('~'), find_date_time):\n",
    "        has_rest = rest_of_date(init.remove_space(value), date_text)\n",
    "        if has_rest:\n",
    "            has_value_not_correct = True\n",
    "            break\n",
    "else:\n",
    "    has_value_not_correct = True\n",
    "    \n",
    "print(has_value_not_correct)"
   ]
  },
  {
   "cell_type": "code",
   "execution_count": null,
   "metadata": {},
   "outputs": [],
   "source": []
  }
 ],
 "metadata": {
  "kernelspec": {
   "display_name": "tzzim",
   "language": "python",
   "name": "python3"
  },
  "language_info": {
   "codemirror_mode": {
    "name": "ipython",
    "version": 3
   },
   "file_extension": ".py",
   "mimetype": "text/x-python",
   "name": "python",
   "nbconvert_exporter": "python",
   "pygments_lexer": "ipython3",
   "version": "3.9.12"
  }
 },
 "nbformat": 4,
 "nbformat_minor": 2
}
